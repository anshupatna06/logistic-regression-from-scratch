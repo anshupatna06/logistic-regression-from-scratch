{
 "cells": [
  {
   "cell_type": "markdown",
   "id": "c5da59e5-ac21-420f-a6d7-20cf8f160bc0",
   "metadata": {},
   "source": [
    "## Logistic Regression from scratch without using ML libraries like scikit-learn"
   ]
  },
  {
   "cell_type": "code",
   "execution_count": 19,
   "id": "1df7a0ab-3bd3-4d9c-9dd5-ed50ed00db7f",
   "metadata": {},
   "outputs": [],
   "source": [
    "## Importing important libraries\n",
    "import pandas as pd\n",
    "import numpy as np"
   ]
  },
  {
   "cell_type": "code",
   "execution_count": 20,
   "id": "993461ad-58ec-4b5a-b6de-7f51b8e3140e",
   "metadata": {},
   "outputs": [
    {
     "data": {
      "text/html": [
       "<div>\n",
       "<style scoped>\n",
       "    .dataframe tbody tr th:only-of-type {\n",
       "        vertical-align: middle;\n",
       "    }\n",
       "\n",
       "    .dataframe tbody tr th {\n",
       "        vertical-align: top;\n",
       "    }\n",
       "\n",
       "    .dataframe thead th {\n",
       "        text-align: right;\n",
       "    }\n",
       "</style>\n",
       "<table border=\"1\" class=\"dataframe\">\n",
       "  <thead>\n",
       "    <tr style=\"text-align: right;\">\n",
       "      <th></th>\n",
       "      <th>PassengerId</th>\n",
       "      <th>Survived</th>\n",
       "      <th>Pclass</th>\n",
       "      <th>Sex</th>\n",
       "      <th>Age</th>\n",
       "      <th>SibSp</th>\n",
       "      <th>Parch</th>\n",
       "      <th>Fare</th>\n",
       "      <th>Embarked</th>\n",
       "    </tr>\n",
       "  </thead>\n",
       "  <tbody>\n",
       "    <tr>\n",
       "      <th>0</th>\n",
       "      <td>1</td>\n",
       "      <td>0</td>\n",
       "      <td>3</td>\n",
       "      <td>Male</td>\n",
       "      <td>22.0</td>\n",
       "      <td>1</td>\n",
       "      <td>0</td>\n",
       "      <td>7.2500</td>\n",
       "      <td>3</td>\n",
       "    </tr>\n",
       "    <tr>\n",
       "      <th>1</th>\n",
       "      <td>2</td>\n",
       "      <td>1</td>\n",
       "      <td>1</td>\n",
       "      <td>female</td>\n",
       "      <td>38.0</td>\n",
       "      <td>1</td>\n",
       "      <td>0</td>\n",
       "      <td>71.2833</td>\n",
       "      <td>1</td>\n",
       "    </tr>\n",
       "    <tr>\n",
       "      <th>2</th>\n",
       "      <td>3</td>\n",
       "      <td>1</td>\n",
       "      <td>3</td>\n",
       "      <td>female</td>\n",
       "      <td>26.0</td>\n",
       "      <td>0</td>\n",
       "      <td>0</td>\n",
       "      <td>7.9250</td>\n",
       "      <td>3</td>\n",
       "    </tr>\n",
       "    <tr>\n",
       "      <th>3</th>\n",
       "      <td>4</td>\n",
       "      <td>1</td>\n",
       "      <td>1</td>\n",
       "      <td>female</td>\n",
       "      <td>35.0</td>\n",
       "      <td>1</td>\n",
       "      <td>0</td>\n",
       "      <td>53.1000</td>\n",
       "      <td>3</td>\n",
       "    </tr>\n",
       "    <tr>\n",
       "      <th>4</th>\n",
       "      <td>5</td>\n",
       "      <td>0</td>\n",
       "      <td>3</td>\n",
       "      <td>Male</td>\n",
       "      <td>35.0</td>\n",
       "      <td>0</td>\n",
       "      <td>0</td>\n",
       "      <td>8.0500</td>\n",
       "      <td>3</td>\n",
       "    </tr>\n",
       "  </tbody>\n",
       "</table>\n",
       "</div>"
      ],
      "text/plain": [
       "   PassengerId  Survived  Pclass     Sex   Age  SibSp  Parch     Fare  \\\n",
       "0            1         0       3    Male  22.0      1      0   7.2500   \n",
       "1            2         1       1  female  38.0      1      0  71.2833   \n",
       "2            3         1       3  female  26.0      0      0   7.9250   \n",
       "3            4         1       1  female  35.0      1      0  53.1000   \n",
       "4            5         0       3    Male  35.0      0      0   8.0500   \n",
       "\n",
       "   Embarked  \n",
       "0         3  \n",
       "1         1  \n",
       "2         3  \n",
       "3         3  \n",
       "4         3  "
      ]
     },
     "execution_count": 20,
     "metadata": {},
     "output_type": "execute_result"
    }
   ],
   "source": [
    "# 1. Load Titanic Dataset\n",
    "df = pd.read_csv(r\"C:\\Users\\ASUS\\Desktop\\cleaned_DataAnalysis\\SVMtrain.csv\")\n",
    "df.head()"
   ]
  },
  {
   "cell_type": "code",
   "execution_count": 21,
   "id": "2e40a245-9526-4122-b5f2-78af29c3179e",
   "metadata": {},
   "outputs": [
    {
     "data": {
      "text/plain": [
       "PassengerId    0\n",
       "Survived       0\n",
       "Pclass         0\n",
       "Sex            0\n",
       "Age            0\n",
       "SibSp          0\n",
       "Parch          0\n",
       "Fare           0\n",
       "Embarked       0\n",
       "dtype: int64"
      ]
     },
     "execution_count": 21,
     "metadata": {},
     "output_type": "execute_result"
    }
   ],
   "source": [
    "df.isnull().sum()"
   ]
  },
  {
   "cell_type": "code",
   "execution_count": 22,
   "id": "cb825dbc-cc4c-4404-9feb-7e5185ce5b13",
   "metadata": {},
   "outputs": [],
   "source": [
    "## Encoding of the Categorical Variables\n",
    "df['Sex']=df['Sex'].map({'Male':1,'female':0})"
   ]
  },
  {
   "cell_type": "code",
   "execution_count": 23,
   "id": "b70c6e91-d2db-46e3-a634-a551c9d86e82",
   "metadata": {},
   "outputs": [],
   "source": [
    "## Now Select features\n",
    "features=['Pclass','Sex','Age','Fare']\n",
    "df=df[features+['Survived']]"
   ]
  },
  {
   "cell_type": "code",
   "execution_count": 24,
   "id": "84cc291a-8b52-45c1-8aab-fa61ffeb01ef",
   "metadata": {},
   "outputs": [],
   "source": [
    "# Split features and target\n",
    "X = df[features].values\n",
    "y = df['Survived'].values"
   ]
  },
  {
   "cell_type": "code",
   "execution_count": 25,
   "id": "beddabd5-9d55-46fd-a220-005a11be926b",
   "metadata": {},
   "outputs": [],
   "source": [
    "## Normalizing of the features\n",
    "from sklearn.preprocessing import LabelEncoder, StandardScaler\n",
    "\n",
    "# Normalize features\n",
    "scaler = StandardScaler()\n",
    "X = scaler.fit_transform(X)"
   ]
  },
  {
   "cell_type": "code",
   "execution_count": 26,
   "id": "0dff920d-8464-4efa-9994-f5834086b0b6",
   "metadata": {},
   "outputs": [
    {
     "name": "stdout",
     "output_type": "stream",
     "text": [
      "0\n"
     ]
    }
   ],
   "source": [
    "## Check if there is missing values in the age\n",
    "print(df['Age'].isnull().sum())"
   ]
  },
  {
   "cell_type": "code",
   "execution_count": 27,
   "id": "785003d8-52b6-4cfa-bc5c-3219a2e688ef",
   "metadata": {},
   "outputs": [],
   "source": [
    "## train-test from scratch without using scikit-learn\n",
    "import numpy as np\n",
    "\n",
    "def train_test_split(X,y,test_size=0.2,random_state=None):\n",
    "    if random_state:\n",
    "        np.random.seed(random_state)\n",
    "\n",
    "    indices=np.arange(X.shape[0])\n",
    "    np.random.shuffle(indices)\n",
    "\n",
    "    test_count=int(test_size*X.shape[0])\n",
    "\n",
    "    test_indices=indices[:test_count]\n",
    "    train_indices=indices[test_count:]\n",
    "\n",
    "    return X[train_indices],X[test_indices],y[train_indices],y[test_indices]"
   ]
  },
  {
   "cell_type": "code",
   "execution_count": 28,
   "id": "cc5afea2-79ae-4bdb-afb5-06947e605d00",
   "metadata": {},
   "outputs": [],
   "source": [
    "# Train-test split\n",
    "X_train, X_test, y_train, y_test = train_test_split(X, y, test_size=0.2, random_state=42)"
   ]
  },
  {
   "cell_type": "code",
   "execution_count": 29,
   "id": "9bb9ef38-11f2-4b44-963f-ec1c4ea25b8c",
   "metadata": {},
   "outputs": [],
   "source": [
    "## Defining of the sigmoid function\n",
    "def sigmoid(z):\n",
    "    return 1 / (1 + np.exp(-z))\n"
   ]
  },
  {
   "cell_type": "code",
   "execution_count": 30,
   "id": "c662bc94-83fd-47f3-aa10-471c64d478e9",
   "metadata": {},
   "outputs": [],
   "source": [
    "## Binary Cross-Entropy Loss\n",
    "def compute_loss(y, y_hat):\n",
    "    m = len(y)\n",
    "    # Avoid log(0) with epsilon\n",
    "    epsilon = 1e-15\n",
    "    y_hat = np.clip(y_hat, epsilon, 1 - epsilon)\n",
    "    return - (1/m) * np.sum(y * np.log(y_hat) + (1 - y) * np.log(1 - y_hat))"
   ]
  },
  {
   "cell_type": "code",
   "execution_count": 31,
   "id": "8f0c806b-9346-489b-9b6c-ff5b5f282695",
   "metadata": {},
   "outputs": [],
   "source": [
    "## Defining function to train the model\n",
    "def train_logistic_regression(X, y, lr=0.001, epochs=1000):\n",
    "    m, n = X.shape\n",
    "    weights = np.zeros(n)\n",
    "    bias = 0\n",
    "    losses = []\n",
    "\n",
    "    for epoch in range(epochs):\n",
    "        z = np.dot(X, weights) + bias\n",
    "        y_hat = sigmoid(z)\n",
    "\n",
    "        # Gradient calculation\n",
    "        dw = (1/m) * np.dot(X.T, (y_hat - y))\n",
    "        db = (1/m) * np.sum(y_hat - y)\n",
    "\n",
    "        # Weight update\n",
    "        weights -= lr * dw\n",
    "        bias -= lr * db\n",
    "\n",
    "        # Record loss\n",
    "        loss = compute_loss(y, y_hat)\n",
    "        losses.append(loss)\n",
    "\n",
    "        if epoch % 100 == 0:\n",
    "            print(f\"Epoch {epoch}, Loss: {loss:.4f}\")\n",
    "\n",
    "    return weights, bias, losses"
   ]
  },
  {
   "cell_type": "code",
   "execution_count": 32,
   "id": "3de955cb-9f25-443c-a4c7-56e07a901ada",
   "metadata": {},
   "outputs": [],
   "source": [
    "## Defining predict function to predict the output\n",
    "def predict(X, weights, bias, threshold=0.5):\n",
    "    probs = sigmoid(np.dot(X, weights) + bias)\n",
    "    return (probs >= threshold).astype(int)\n"
   ]
  },
  {
   "cell_type": "code",
   "execution_count": 33,
   "id": "4f230f68-829b-4932-8041-cde4939fdfb7",
   "metadata": {},
   "outputs": [],
   "source": [
    "## Defining accuracy function\n",
    "def accuracy(y_true, y_pred):\n",
    "    return np.mean(y_true == y_pred)"
   ]
  },
  {
   "cell_type": "code",
   "execution_count": 34,
   "id": "0f81036d-0ad6-4e5c-99a5-bc72885a417b",
   "metadata": {},
   "outputs": [
    {
     "name": "stdout",
     "output_type": "stream",
     "text": [
      "Epoch 0, Loss: 0.6931\n",
      "Epoch 100, Loss: 0.4690\n",
      "Epoch 200, Loss: 0.4615\n",
      "Epoch 300, Loss: 0.4601\n",
      "Epoch 400, Loss: 0.4597\n",
      "Epoch 500, Loss: 0.4596\n",
      "Epoch 600, Loss: 0.4596\n",
      "Epoch 700, Loss: 0.4596\n",
      "Epoch 800, Loss: 0.4596\n",
      "Epoch 900, Loss: 0.4596\n",
      "Accuracy: 0.7966101694915254\n"
     ]
    }
   ],
   "source": [
    "# Train the model\n",
    "weights, bias, losses = train_logistic_regression(X_train, y_train, lr=0.1, epochs=1000)\n",
    "\n",
    "# Predict\n",
    "y_pred = predict(X_test, weights, bias)\n",
    "\n",
    "# Evaluate\n",
    "print(\"Accuracy:\", accuracy(y_test, y_pred))"
   ]
  },
  {
   "cell_type": "code",
   "execution_count": 35,
   "id": "fbbb03a2-2739-4947-a4a0-ebe235757ecf",
   "metadata": {},
   "outputs": [
    {
     "data": {
      "image/png": "[encoded data removed]",
      "text/plain": [
       "<Figure size 640x480 with 1 Axes>"
      ]
     },
     "metadata": {},
     "output_type": "display_data"
    }
   ],
   "source": [
    "## Visualizing the plot over iterations\n",
    "import matplotlib.pyplot as plt\n",
    "plt.plot(losses)\n",
    "plt.title(\"Loss over Epochs\")\n",
    "plt.xlabel(\"Epoch\")\n",
    "plt.ylabel(\"Loss\")\n",
    "plt.grid(True)\n",
    "plt.show()"
   ]
  },
  {
   "cell_type": "code",
   "execution_count": null,
   "id": "63401268-341d-4dd1-8cfb-2321b15351e1",
   "metadata": {},
   "outputs": [],
   "source": []
  },
  {
   "cell_type": "code",
   "execution_count": null,
   "id": "a9bbd3ae-4f33-49a1-bda5-66497743f725",
   "metadata": {},
   "outputs": [],
   "source": []
  }
 ],
 "metadata": {
  "kernelspec": {
   "display_name": "Python 3 (ipykernel)",
   "language": "python",
   "name": "python3"
  },
  "language_info": {
   "codemirror_mode": {
    "name": "ipython",
    "version": 3
   },
   "file_extension": ".py",
   "mimetype": "text/x-python",
   "name": "python",
   "nbconvert_exporter": "python",
   "pygments_lexer": "ipython3",
   "version": "3.13.4"
  }
 },
 "nbformat": 4,
 "nbformat_minor": 5
}
